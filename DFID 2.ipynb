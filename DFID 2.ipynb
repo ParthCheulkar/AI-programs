{
 "cells": [
  {
   "cell_type": "code",
   "execution_count": 1,
   "id": "5537e87a",
   "metadata": {
    "id": "5537e87a"
   },
   "outputs": [],
   "source": [
    "class Node(object):\n",
    "    \"\"\"This class represents a node in a graph.\"\"\"\n",
    "    \n",
    "    def __init__(self, label: str=None):\n",
    "        \"\"\"\n",
    "        Initialize a new node.\n",
    "        \n",
    "        Args:\n",
    "            label: the string identifier for the node\n",
    "        \"\"\"\n",
    "        self.label = label\n",
    "        self.children = []\n",
    "        \n",
    "    def __lt__(self,other):\n",
    "        \"\"\"\n",
    "        Perform the less than operation (self < other).\n",
    "        \n",
    "        Args:\n",
    "            other: the other Node to compare to\n",
    "        \"\"\"\n",
    "        return (self.label < other.label)\n",
    "    \n",
    "    def __gt__(self,other):\n",
    "        \"\"\"\n",
    "        Perform the greater than operation (self > other).\n",
    "        \n",
    "        Args:\n",
    "            other: the other Node to compare to\n",
    "        \"\"\"\n",
    "        return (self.label > other.label)\n",
    "    \n",
    "    def __repr__(self):\n",
    "        \"\"\"Return a string form of this node.\"\"\"\n",
    "        return '{} -> {}'.format(self.label, self.children)\n",
    "    \n",
    "    def add_child(self, node, cost=1):\n",
    "        \"\"\"\n",
    "        Add a child node to this node.\n",
    "        \n",
    "        Args:\n",
    "            node: the node to add to the children\n",
    "            cost: the cost of the edge (default 1)\n",
    "        \"\"\"\n",
    "        if type(node) is list:\n",
    "            [self.add_child(sub_node) for sub_node in node]\n",
    "            return\n",
    "        edge = Edge(self, node, cost)\n",
    "        self.children.append(edge)\n",
    "    \n",
    "    \n",
    "class Edge(object):\n",
    "    \"\"\"This class represents an edge in a graph.\"\"\"\n",
    "    \n",
    "    def __init__(self, source: Node, destination: Node, cost: int=5, bidirectional: bool=False):\n",
    "        \"\"\"\n",
    "        Initialize a new edge.\n",
    "        \n",
    "        Args:\n",
    "            source: the source of the edge\n",
    "            destination: the destination of the edge\n",
    "            cost: the cost of the edge (default 1)\n",
    "            bidirectional: whether source is accessible (default False)\n",
    "        \"\"\"\n",
    "        self.source = source\n",
    "        self.destination = destination\n",
    "        self.cost = cost\n",
    "        self.bidirectional = bidirectional\n",
    "    \n",
    "    def __repr__(self):\n",
    "        \"\"\"Return a string form of this edge.\"\"\"\n",
    "        return '{}: {}'.format(self.cost, self.destination.label)"
   ]
  },
  {
   "cell_type": "code",
   "execution_count": 2,
   "id": "d8f5e4be",
   "metadata": {
    "id": "d8f5e4be"
   },
   "outputs": [],
   "source": [
    "S = Node('Start')\n",
    "n1 = Node('Introduction')\n",
    "n2= Node('Model')\n",
    "n3= Node('Agents')\n",
    "n4= Node('Role')\n",
    "n5= Node('Types')\n",
    "n6= Node('Application')\n",
    "n7= Node('Model Type')\n",
    "n8= Node('Algorithm')\n",
    "n9= Node('Accuracy')\n",
    "n10= Node('Goal Based')\n",
    "n11= Node('Utility')\n",
    "n12= Node('Sub Role')\n",
    "n13= Node('History')\n",
    "n14= Node('Impact')\n",
    "n15= Node('Weak AI')\n",
    "n16= Node('Development')\n",
    "n17= Node('A*')\n",
    "n18= Node('Prediction')\n",
    "# n19= Node('s')\n",
    "n20= Node('Result')\n",
    "# n21= Node('u')\n",
    "n22= Node('Businesses')\n",
    "\n",
    "D = Node('D')"
   ]
  },
  {
   "cell_type": "code",
   "execution_count": 3,
   "id": "3d179385",
   "metadata": {
    "id": "3d179385"
   },
   "outputs": [],
   "source": [
    "S.add_child([n1,n2,n3,n4])\n",
    "n1.add_child([n5, n6,n7])\n",
    "n2.add_child([n8,n9])\n",
    "n3.add_child([n10,n11])\n",
    "n4.add_child([n12,n13,n14])\n",
    "n5.add_child([n15])\n",
    "n6.add_child([n16])\n",
    "n8.add_child(n17)\n",
    "n9.add_child([n18])\n",
    "n11.add_child(n20)\n",
    "n14.add_child(n22)\n",
    "n20.add_child(D)\n"
   ]
  },
  {
   "cell_type": "code",
   "execution_count": 4,
   "id": "2c7d17fd",
   "metadata": {
    "colab": {
     "base_uri": "https://localhost:8080/"
    },
    "id": "2c7d17fd",
    "outputId": "38a76e23-ed2a-4370-cf75-83df5d4f1489",
    "scrolled": false
   },
   "outputs": [
    {
     "ename": "NameError",
     "evalue": "name 'n19' is not defined",
     "output_type": "error",
     "traceback": [
      "\u001b[1;31m---------------------------------------------------------------------------\u001b[0m",
      "\u001b[1;31mNameError\u001b[0m                                 Traceback (most recent call last)",
      "Input \u001b[1;32mIn [4]\u001b[0m, in \u001b[0;36m<cell line: 1>\u001b[1;34m()\u001b[0m\n\u001b[1;32m----> 1\u001b[0m _ \u001b[38;5;241m=\u001b[39m [\u001b[38;5;28mprint\u001b[39m(node) \u001b[38;5;28;01mfor\u001b[39;00m node \u001b[38;5;129;01min\u001b[39;00m [S,n1,n2,n3,n4,n5,n6,n7,n8,n9,n10,n11,n12,n13,n14,n15,n16,n17,n18,\u001b[43mn19\u001b[49m,n20,n21,n22,D]]\n",
      "\u001b[1;31mNameError\u001b[0m: name 'n19' is not defined"
     ]
    }
   ],
   "source": [
    "_ = [print(node) for node in [S,n1,n2,n3,n4,n5,n6,n7,n8,n9,n10,n11,n12,n13,n14,n15,n16,n17,n18,n19,n20,n21,n22,D]]"
   ]
  },
  {
   "cell_type": "code",
   "execution_count": 5,
   "id": "996f97a9",
   "metadata": {
    "id": "996f97a9"
   },
   "outputs": [],
   "source": [
    "def iddfs(root: Node, goal: str, maximum_depth: int=5):\n",
    "    \"\"\"\n",
    "    Return the IDDFS path from the root node to the node with the goal label.\n",
    "    \n",
    "    Args:\n",
    "        root: the node to start at\n",
    "        goal: the label of the goal node\n",
    "        maximum_depth: the maximum depth to search\n",
    "        \n",
    "    Returns: a list with the nodes from root to goal\n",
    "    \n",
    "    Raises: value error if the goal isn't in the graph\n",
    "    \"\"\"\n",
    "    for depth in range(0, maximum_depth):\n",
    "        result = _dls([root], goal, depth)\n",
    "        if result is None:\n",
    "            continue\n",
    "        return result\n",
    "    \n",
    "    raise ValueError('goal not in graph with depth {}'.format(maximum_depth))\n",
    "\n",
    "def _dls(path: list, goal: str, depth: int=5):\n",
    "    \"\"\"\n",
    "    Return the depth limited search path from a subpath to the goal.\n",
    "    \n",
    "    Args:\n",
    "        path: the current path of Nodes being taken\n",
    "        goal: the label of the goal node\n",
    "        depth: the depth in the graph to search\n",
    "        \n",
    "    Returns: the path if it exists, none otherwise\n",
    "    \"\"\"\n",
    "    current = path[-1]\n",
    "    if current.label == goal:\n",
    "        return path\n",
    "    if depth <= 0:\n",
    "        return None\n",
    "    for edge in current.children:\n",
    "        new_path = list(path)\n",
    "        new_path.append(edge.destination)\n",
    "        result = _dls(new_path, goal, depth - 1)\n",
    "        if result is not None:\n",
    "            return result"
   ]
  },
  {
   "cell_type": "code",
   "execution_count": 8,
   "id": "8b3b3d72",
   "metadata": {
    "colab": {
     "base_uri": "https://localhost:8080/"
    },
    "id": "8b3b3d72",
    "outputId": "586ec542-85c0-41b7-94a1-f1341a1da878"
   },
   "outputs": [
    {
     "data": {
      "text/plain": [
       "[Start -> [1: Introduction, 1: Model, 1: Agents, 1: Role],\n",
       " Agents -> [1: Goal Based, 1: Utility],\n",
       " Utility -> [1: Result],\n",
       " Result -> [1: D],\n",
       " D -> []]"
      ]
     },
     "execution_count": 8,
     "metadata": {},
     "output_type": "execute_result"
    }
   ],
   "source": [
    "iddfs(S, 'D')\n"
   ]
  },
  {
   "cell_type": "code",
   "execution_count": 9,
   "id": "a2289648",
   "metadata": {},
   "outputs": [
    {
     "ename": "TypeError",
     "evalue": "'Node' object is not subscriptable",
     "output_type": "error",
     "traceback": [
      "\u001b[1;31m---------------------------------------------------------------------------\u001b[0m",
      "\u001b[1;31mTypeError\u001b[0m                                 Traceback (most recent call last)",
      "Input \u001b[1;32mIn [9]\u001b[0m, in \u001b[0;36m<cell line: 1>\u001b[1;34m()\u001b[0m\n\u001b[1;32m----> 1\u001b[0m \u001b[43m_dls\u001b[49m\u001b[43m(\u001b[49m\u001b[43mS\u001b[49m\u001b[43m,\u001b[49m\u001b[43m \u001b[49m\u001b[38;5;124;43m'\u001b[39;49m\u001b[38;5;124;43mD\u001b[39;49m\u001b[38;5;124;43m'\u001b[39;49m\u001b[43m)\u001b[49m\n",
      "Input \u001b[1;32mIn [5]\u001b[0m, in \u001b[0;36m_dls\u001b[1;34m(path, goal, depth)\u001b[0m\n\u001b[0;32m     22\u001b[0m \u001b[38;5;28;01mdef\u001b[39;00m \u001b[38;5;21m_dls\u001b[39m(path: \u001b[38;5;28mlist\u001b[39m, goal: \u001b[38;5;28mstr\u001b[39m, depth: \u001b[38;5;28mint\u001b[39m\u001b[38;5;241m=\u001b[39m\u001b[38;5;241m5\u001b[39m):\n\u001b[0;32m     23\u001b[0m     \u001b[38;5;124;03m\"\"\"\u001b[39;00m\n\u001b[0;32m     24\u001b[0m \u001b[38;5;124;03m    Return the depth limited search path from a subpath to the goal.\u001b[39;00m\n\u001b[0;32m     25\u001b[0m \u001b[38;5;124;03m    \u001b[39;00m\n\u001b[1;32m   (...)\u001b[0m\n\u001b[0;32m     31\u001b[0m \u001b[38;5;124;03m    Returns: the path if it exists, none otherwise\u001b[39;00m\n\u001b[0;32m     32\u001b[0m \u001b[38;5;124;03m    \"\"\"\u001b[39;00m\n\u001b[1;32m---> 33\u001b[0m     current \u001b[38;5;241m=\u001b[39m \u001b[43mpath\u001b[49m\u001b[43m[\u001b[49m\u001b[38;5;241;43m-\u001b[39;49m\u001b[38;5;241;43m1\u001b[39;49m\u001b[43m]\u001b[49m\n\u001b[0;32m     34\u001b[0m     \u001b[38;5;28;01mif\u001b[39;00m current\u001b[38;5;241m.\u001b[39mlabel \u001b[38;5;241m==\u001b[39m goal:\n\u001b[0;32m     35\u001b[0m         \u001b[38;5;28;01mreturn\u001b[39;00m path\n",
      "\u001b[1;31mTypeError\u001b[0m: 'Node' object is not subscriptable"
     ]
    }
   ],
   "source": [
    "_dls(S, 'D')"
   ]
  },
  {
   "cell_type": "code",
   "execution_count": null,
   "id": "a13d9ae5",
   "metadata": {},
   "outputs": [],
   "source": []
  }
 ],
 "metadata": {
  "colab": {
   "collapsed_sections": [],
   "name": "DFID.ipynb",
   "provenance": []
  },
  "kernelspec": {
   "display_name": "Python 3 (ipykernel)",
   "language": "python",
   "name": "python3"
  },
  "language_info": {
   "codemirror_mode": {
    "name": "ipython",
    "version": 3
   },
   "file_extension": ".py",
   "mimetype": "text/x-python",
   "name": "python",
   "nbconvert_exporter": "python",
   "pygments_lexer": "ipython3",
   "version": "3.10.2"
  }
 },
 "nbformat": 4,
 "nbformat_minor": 5
}
