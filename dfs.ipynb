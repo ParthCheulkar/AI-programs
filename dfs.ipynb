{
 "cells": [
  {
   "cell_type": "code",
   "execution_count": 3,
   "metadata": {
    "colab": {
     "base_uri": "https://localhost:8080/"
    },
    "id": "qgb8BKB04PcM",
    "outputId": "47f0f31c-ac42-4055-d47c-144ab843fc3d"
   },
   "outputs": [
    {
     "name": "stdout",
     "output_type": "stream",
     "text": [
      "Following is the Depth-First Search : \n",
      "Start\n",
      "Intro\n",
      "Role\n",
      "History\n",
      "Development\n",
      "Sub-roles\n",
      "Types\n",
      "Application\n",
      "Autocars\n",
      "Result\n",
      "Prediction\n",
      "Model\n",
      "Model Type\n",
      "Algorithm\n",
      "A*\n",
      "DFID\n",
      "Agents\n",
      "Simplex\n",
      "Goal-based\n",
      "Utility\n"
     ]
    }
   ],
   "source": [
    "graph = {\n",
    "   'Start' : ['Intro', 'Model', 'Agents'],\n",
    "    'Intro' : ['Role', 'Types', 'Application'],\n",
    "    'Model' : ['Model Type', 'Algorithm'] ,\n",
    "    'Agents' : ['Simplex','Goal-based','Utility'] ,\n",
    "    'Role' : ['History','Sub-roles'] ,\n",
    "    'Types' : ['History'] ,\n",
    "    'Application' : ['Autocars'] ,\n",
    "    'Model Type' : [] ,\n",
    "    'Algorithm' : ['A*','DFID'],\n",
    "    'Simplex' : ['Result','Prediction'] ,\n",
    "    'Goal-based' :['Result'] ,\n",
    "    'Utility' : ['Result'] ,\n",
    "    'Sub-roles' : ['Development'] ,\n",
    "    'History' : ['Development'] ,\n",
    "    'A*' : ['A*'] ,\n",
    "    'DFID' : ['Prediction'] ,\n",
    "    'Result' : ['Prediction'],\n",
    "    'Development' : [],\n",
    "    'Autocars' : ['Result'] ,\n",
    "    'Prediction' : []\n",
    "}\n",
    "\n",
    "visited = set() # Set to keep track of visited nodes of graph.\n",
    "\n",
    "def dfs(visited, graph, node):  #function for dfs \n",
    "    if node not in visited:\n",
    "        print (node)\n",
    "#         print(visited)\n",
    "        visited.add(node)\n",
    "        for neighbour in graph[node]:\n",
    "            dfs(visited, graph, neighbour)\n",
    "\n",
    "# Driver Code\n",
    "print(\"Following is the Depth-First Search : \")\n",
    "dfs(visited, graph, 'Start')"
   ]
  },
  {
   "cell_type": "code",
   "execution_count": 6,
   "metadata": {},
   "outputs": [
    {
     "name": "stdout",
     "output_type": "stream",
     "text": [
      "Start\n",
      "Intro\n",
      "Role\n",
      "History\n",
      "Development\n",
      "Sub-roles\n",
      "Types\n",
      "Application\n",
      "Autocars\n",
      "Result\n",
      "Prediction\n",
      "Model\n",
      "Model Type\n",
      "Algorithm\n",
      "A*\n",
      "DFID\n",
      "Agents\n",
      "Simplex\n",
      "Goal-based\n",
      "Utility\n"
     ]
    }
   ],
   "source": [
    "visit = set()\n",
    "\n",
    "def dfs2(visit, graph, node):\n",
    "    if node not in visit :\n",
    "        print(node)\n",
    "        visit.add(node)\n",
    "        for child in graph[node]:\n",
    "#             visit.add(child)\n",
    "#             print(child)\n",
    "            dfs2(visit, graph, child)\n",
    "            \n",
    "dfs2(visit, graph, 'Start')"
   ]
  },
  {
   "cell_type": "code",
   "execution_count": 7,
   "metadata": {},
   "outputs": [
    {
     "data": {
      "text/plain": [
       "['Intro', 'Model', 'Agents']"
      ]
     },
     "execution_count": 7,
     "metadata": {},
     "output_type": "execute_result"
    }
   ],
   "source": [
    "graph['Start']"
   ]
  },
  {
   "cell_type": "code",
   "execution_count": null,
   "metadata": {},
   "outputs": [],
   "source": []
  }
 ],
 "metadata": {
  "colab": {
   "collapsed_sections": [],
   "name": "bfs_dfs",
   "provenance": []
  },
  "kernelspec": {
   "display_name": "Python 3 (ipykernel)",
   "language": "python",
   "name": "python3"
  },
  "language_info": {
   "codemirror_mode": {
    "name": "ipython",
    "version": 3
   },
   "file_extension": ".py",
   "mimetype": "text/x-python",
   "name": "python",
   "nbconvert_exporter": "python",
   "pygments_lexer": "ipython3",
   "version": "3.10.2"
  }
 },
 "nbformat": 4,
 "nbformat_minor": 1
}
