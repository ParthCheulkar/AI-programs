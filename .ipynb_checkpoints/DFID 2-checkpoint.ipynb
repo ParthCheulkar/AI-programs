{
 "cells": [
  {
   "cell_type": "code",
   "execution_count": 1,
   "id": "5537e87a",
   "metadata": {
    "id": "5537e87a"
   },
   "outputs": [],
   "source": [
    "# OPTIONAL CODE FOR DFID \n",
    "\n",
    "class Node(object):\n",
    "    \"\"\"This class represents a node in a graph.\"\"\"\n",
    "    \n",
    "    def __init__(self, label: str=None):\n",
    "        \"\"\"\n",
    "        Initialize a new node.\n",
    "        \n",
    "        Args:\n",
    "            label: the string identifier for the node\n",
    "        \"\"\"\n",
    "        self.label = label\n",
    "        self.children = []\n",
    "        \n",
    "    def __lt__(self,other):\n",
    "        \"\"\"\n",
    "        Perform the less than operation (self < other).\n",
    "        \n",
    "        Args:\n",
    "            other: the other Node to compare to\n",
    "        \"\"\"\n",
    "        return (self.label < other.label)\n",
    "    \n",
    "    def __gt__(self,other):\n",
    "        \"\"\"\n",
    "        Perform the greater than operation (self > other).\n",
    "        \n",
    "        Args:\n",
    "            other: the other Node to compare to\n",
    "        \"\"\"\n",
    "        return (self.label > other.label)\n",
    "    \n",
    "    def __repr__(self):\n",
    "        \"\"\"Return a string form of this node.\"\"\"\n",
    "        return '{} -> {}'.format(self.label, self.children)\n",
    "    \n",
    "    def add_child(self, node, cost=1):\n",
    "        \"\"\"\n",
    "        Add a child node to this node.\n",
    "        \n",
    "        Args:\n",
    "            node: the node to add to the children\n",
    "            cost: the cost of the edge (default 1)\n",
    "        \"\"\"\n",
    "        if type(node) is list:\n",
    "            [self.add_child(sub_node) for sub_node in node]\n",
    "            return\n",
    "        edge = Edge(self, node, cost)\n",
    "        self.children.append(edge)\n",
    "    \n",
    "    \n",
    "class Edge(object):\n",
    "    \"\"\"This class represents an edge in a graph.\"\"\"\n",
    "    \n",
    "    def __init__(self, source: Node, destination: Node, cost: int=5, bidirectional: bool=False):\n",
    "        \"\"\"\n",
    "        Initialize a new edge.\n",
    "        \n",
    "        Args:\n",
    "            source: the source of the edge\n",
    "            destination: the destination of the edge\n",
    "            cost: the cost of the edge (default 1)\n",
    "            bidirectional: whether source is accessible (default False)\n",
    "        \"\"\"\n",
    "        self.source = source\n",
    "        self.destination = destination\n",
    "        self.cost = cost\n",
    "        self.bidirectional = bidirectional\n",
    "    \n",
    "    def __repr__(self):\n",
    "        \"\"\"Return a string form of this edge.\"\"\"\n",
    "        return '{}: {}'.format(self.cost, self.destination.label)"
   ]
  },
  {
   "cell_type": "code",
   "execution_count": 2,
   "id": "d8f5e4be",
   "metadata": {
    "id": "d8f5e4be"
   },
   "outputs": [],
   "source": [
    "S = Node('Start')\n",
    "n1 = Node('Introduction')\n",
    "n2= Node('Model')\n",
    "n3= Node('Agents')\n",
    "n4= Node('Role')\n",
    "n5= Node('Types')\n",
    "n6= Node('Application')\n",
    "n7= Node('Model Type')\n",
    "n8= Node('Algorithm')\n",
    "n9= Node('Accuracy')\n",
    "n10= Node('Goal Based')\n",
    "n11= Node('Utility')\n",
    "n12= Node('Sub Role')\n",
    "n13= Node('History')\n",
    "n14= Node('Impact')\n",
    "n15= Node('Weak AI')\n",
    "n16= Node('Development')\n",
    "n17= Node('A*')\n",
    "n18= Node('Prediction')\n",
    "# n19= Node('s')\n",
    "n20= Node('Result')\n",
    "# n21= Node('u')\n",
    "n22= Node('Businesses')\n",
    "\n",
    "D = Node('D')"
   ]
  },
  {
   "cell_type": "code",
   "execution_count": 3,
   "id": "3d179385",
   "metadata": {
    "id": "3d179385"
   },
   "outputs": [],
   "source": [
    "S.add_child([n1,n2,n3,n4])\n",
    "n1.add_child([n5, n6,n7])\n",
    "n2.add_child([n8,n9])\n",
    "n3.add_child([n10,n11])\n",
    "n4.add_child([n12,n13,n14])\n",
    "n5.add_child([n15])\n",
    "n6.add_child([n16])\n",
    "n8.add_child(n17)\n",
    "n9.add_child([n18])\n",
    "n11.add_child(n20)\n",
    "n14.add_child(n22)\n",
    "n20.add_child(D)\n"
   ]
  },
  {
   "cell_type": "code",
   "execution_count": 8,
   "id": "2c7d17fd",
   "metadata": {
    "colab": {
     "base_uri": "https://localhost:8080/"
    },
    "id": "2c7d17fd",
    "outputId": "38a76e23-ed2a-4370-cf75-83df5d4f1489",
    "scrolled": false
   },
   "outputs": [
    {
     "name": "stdout",
     "output_type": "stream",
     "text": [
      "Start -> [1: Introduction, 1: Model, 1: Agents, 1: Role]\n",
      "Introduction -> [1: Types, 1: Application, 1: Model Type]\n",
      "Model -> [1: Algorithm, 1: Accuracy]\n",
      "Agents -> [1: Goal Based, 1: Utility]\n",
      "Role -> [1: Sub Role, 1: History, 1: Impact]\n",
      "Types -> [1: Weak AI]\n",
      "Application -> [1: Development]\n",
      "Model Type -> []\n",
      "Algorithm -> [1: A*]\n",
      "Accuracy -> [1: Prediction]\n",
      "Goal Based -> []\n",
      "Utility -> [1: Result]\n",
      "Sub Role -> []\n",
      "History -> []\n",
      "Impact -> [1: Businesses]\n",
      "Weak AI -> []\n",
      "Development -> []\n",
      "A* -> []\n",
      "Prediction -> []\n",
      "Result -> [1: D]\n",
      "Businesses -> []\n",
      "D -> []\n"
     ]
    }
   ],
   "source": [
    "_ = [print(node) for node in [S,n1,n2,n3,n4,n5,n6,n7,n8,n9,n10,n11,n12,n13,n14,n15,n16,n17,n18,n20,n22,D]]"
   ]
  },
  {
   "cell_type": "code",
   "execution_count": 5,
   "id": "996f97a9",
   "metadata": {
    "id": "996f97a9"
   },
   "outputs": [],
   "source": [
    "def iddfs(root: Node, goal: str, maximum_depth: int=5):\n",
    "    \"\"\"\n",
    "    Return the IDDFS path from the root node to the node with the goal label.\n",
    "    \n",
    "    Args:\n",
    "        root: the node to start at\n",
    "        goal: the label of the goal node\n",
    "        maximum_depth: the maximum depth to search\n",
    "        \n",
    "    Returns: a list with the nodes from root to goal\n",
    "    \n",
    "    Raises: value error if the goal isn't in the graph\n",
    "    \"\"\"\n",
    "    for depth in range(0, maximum_depth):\n",
    "        result = _dls([root], goal, depth)\n",
    "        if result is None:\n",
    "            continue\n",
    "        return result\n",
    "    \n",
    "    raise ValueError('goal not in graph with depth {}'.format(maximum_depth))\n",
    "\n",
    "def _dls(path: list, goal: str, depth: int=5):\n",
    "    \"\"\"\n",
    "    Return the depth limited search path from a subpath to the goal.\n",
    "    \n",
    "    Args:\n",
    "        path: the current path of Nodes being taken\n",
    "        goal: the label of the goal node\n",
    "        depth: the depth in the graph to search\n",
    "        \n",
    "    Returns: the path if it exists, none otherwise\n",
    "    \"\"\"\n",
    "    current = path[-1]\n",
    "    if current.label == goal:\n",
    "        return path\n",
    "    if depth <= 0:\n",
    "        return None\n",
    "    for edge in current.children:\n",
    "        new_path = list(path)\n",
    "        new_path.append(edge.destination)\n",
    "        result = _dls(new_path, goal, depth - 1)\n",
    "        if result is not None:\n",
    "            return result"
   ]
  },
  {
   "cell_type": "code",
   "execution_count": 6,
   "id": "8b3b3d72",
   "metadata": {
    "colab": {
     "base_uri": "https://localhost:8080/"
    },
    "id": "8b3b3d72",
    "outputId": "586ec542-85c0-41b7-94a1-f1341a1da878"
   },
   "outputs": [
    {
     "data": {
      "text/plain": [
       "[Start -> [1: Introduction, 1: Model, 1: Agents, 1: Role],\n",
       " Agents -> [1: Goal Based, 1: Utility],\n",
       " Utility -> [1: Result],\n",
       " Result -> [1: D],\n",
       " D -> []]"
      ]
     },
     "execution_count": 6,
     "metadata": {},
     "output_type": "execute_result"
    }
   ],
   "source": [
    "iddfs(S, 'D')\n"
   ]
  },
  {
   "cell_type": "code",
   "execution_count": null,
   "id": "a13d9ae5",
   "metadata": {},
   "outputs": [],
   "source": []
  }
 ],
 "metadata": {
  "colab": {
   "collapsed_sections": [],
   "name": "DFID.ipynb",
   "provenance": []
  },
  "kernelspec": {
   "display_name": "Python 3 (ipykernel)",
   "language": "python",
   "name": "python3"
  },
  "language_info": {
   "codemirror_mode": {
    "name": "ipython",
    "version": 3
   },
   "file_extension": ".py",
   "mimetype": "text/x-python",
   "name": "python",
   "nbconvert_exporter": "python",
   "pygments_lexer": "ipython3",
   "version": "3.9.9"
  }
 },
 "nbformat": 4,
 "nbformat_minor": 5
}
