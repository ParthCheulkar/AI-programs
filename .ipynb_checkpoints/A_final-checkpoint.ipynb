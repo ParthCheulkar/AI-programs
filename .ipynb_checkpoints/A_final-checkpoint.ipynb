{
 "cells": [
  {
   "cell_type": "code",
   "execution_count": 2,
   "metadata": {
    "id": "AMDv8tn0wTg9"
   },
   "outputs": [],
   "source": [
    "from collections import deque\n",
    "\n",
    "class Graph:\n",
    "    # example of adjacency list (or rather map)\n",
    "    # adjacency_list = {\n",
    "    # 'A': [('B', 1), ('C', 3), ('D', 7)],\n",
    "    # 'B': [('D', 5)],\n",
    "    # 'C': [('D', 12)]\n",
    "    # }\n",
    "\n",
    "    def __init__(self, adjacency_list):\n",
    "        self.adjacency_list = adjacency_list\n",
    "\n",
    "    def get_neighbors(self, v):\n",
    "        return self.adjacency_list[v]\n",
    "\n",
    "    # heuristic function with equal values for all nodes\n",
    "    def h(self, n):\n",
    "        H = {\n",
    "                'Start' : 0,\n",
    "                'Intro' : 10,\n",
    "                'Model' : 12,\n",
    "                'Agents' : 14,\n",
    "                'Role' : 15,\n",
    "                'Types' : 14,\n",
    "                'Application' : 15,\n",
    "                'Model Type' : 13,\n",
    "                'Algorithm' : 17,\n",
    "                'Simplex' : 21,\n",
    "                'Goal-based' : 20,\n",
    "                'Utility' : 18,\n",
    "                'Sub-roles' : 18,\n",
    "                'History' : 20,\n",
    "                'A*' : 32,\n",
    "                'DFID' : 35,\n",
    "                'Result' : 0,\n",
    "                'Development' : 30,\n",
    "                'Autocars' : 45,\n",
    "                'Prediction' : 40\n",
    "        }\n",
    "\n",
    "        return H[n]\n",
    "\n",
    "    def a_star_algorithm(self, start_node, stop_node):\n",
    "        # open_list is a list of nodes which have been visited, but who's neighbors\n",
    "        # haven't all been inspected, starts off with the start node\n",
    "        # closed_list is a list of nodes which have been visited\n",
    "        # and who's neighbors have been inspected\n",
    "        open_list = set([start_node])\n",
    "        closed_list = set([])\n",
    "\n",
    "        # g contains current distances from start_node to all other nodes\n",
    "        # the default value (if it's not found in the map) is +infinity\n",
    "        g = {}\n",
    "\n",
    "        g[start_node] = 0\n",
    "\n",
    "        # parents contains an adjacency map of all nodes\n",
    "        parents = {}\n",
    "        parents[start_node] = start_node\n",
    "\n",
    "        while len(open_list) > 0:\n",
    "            n = None\n",
    "\n",
    "            # find a node with the lowest value of f() - evaluation function\n",
    "            for v in open_list:\n",
    "                if n == None or g[v] + self.h(v) < g[n] + self.h(n):\n",
    "                    n = v;\n",
    "\n",
    "            if n == None:\n",
    "                print('Path does not exist!')\n",
    "                return None\n",
    "\n",
    "            # if the current node is the stop_node\n",
    "            # then we begin reconstructin the path from it to the start_node\n",
    "            if n == stop_node:\n",
    "                reconst_path = []\n",
    "\n",
    "                while parents[n] != n:\n",
    "                    reconst_path.append(n)\n",
    "                    n = parents[n]\n",
    "\n",
    "                reconst_path.append(start_node)\n",
    "\n",
    "                reconst_path.reverse()\n",
    "\n",
    "                print('Path found: {}'.format(reconst_path))\n",
    "                return reconst_path\n",
    "\n",
    "            # for all neighbors of the current node do\n",
    "            for (m, weight) in self.get_neighbors(n):\n",
    "                # if the current node isn't in both open_list and closed_list\n",
    "                # add it to open_list and note n as it's parent\n",
    "                if m not in open_list and m not in closed_list:\n",
    "                    open_list.add(m)\n",
    "                    parents[m] = n\n",
    "                    g[m] = g[n] + weight\n",
    "\n",
    "                # otherwise, check if it's quicker to first visit n, then m\n",
    "                # and if it is, update parent data and g data\n",
    "                # and if the node was in the closed_list, move it to open_list\n",
    "                else:\n",
    "                    if g[m] > g[n] + weight:\n",
    "                        g[m] = g[n] + weight\n",
    "                        parents[m] = n\n",
    "\n",
    "                        if m in closed_list:\n",
    "                            closed_list.remove(m)\n",
    "                            open_list.add(m)\n",
    "\n",
    "            # remove n from the open_list, and add it to closed_list\n",
    "            # because all of his neighbors were inspected\n",
    "            open_list.remove(n)\n",
    "            closed_list.add(n)\n",
    "\n",
    "        print('Path does not exist!')\n",
    "        return None"
   ]
  },
  {
   "cell_type": "code",
   "execution_count": 3,
   "metadata": {
    "colab": {
     "base_uri": "https://localhost:8080/"
    },
    "id": "3u635ypNjURF",
    "outputId": "87271a0f-c581-4aa4-c251-3bef88d2d2f1"
   },
   "outputs": [
    {
     "name": "stdout",
     "output_type": "stream",
     "text": [
      "Path found: ['Start', 'Agents', 'Simplex', 'Result']\n"
     ]
    },
    {
     "data": {
      "text/plain": [
       "['Start', 'Agents', 'Simplex', 'Result']"
      ]
     },
     "execution_count": 3,
     "metadata": {},
     "output_type": "execute_result"
    }
   ],
   "source": [
    "adjacency_list = {\n",
    "    'Start' : [('Intro', 4), ('Model',6), ('Agents', 7)],\n",
    "    'Intro' : [('Role', 10), ('Types',12), ('Application',13)],\n",
    "    'Model' : [('Model Type', 16), ('Algorithm', 19)] ,\n",
    "    'Agents' : [('Simplex', 22), ('Goal-based', 24), ('Utility', 26)] ,\n",
    "    'Role' : [('History',33), ('Sub-roles',40)] ,\n",
    "    'Types' : [('History', 42)] ,\n",
    "    'Application' : [('Autocars', 60)] ,\n",
    "    'Model Type' : [] ,\n",
    "    'Algorithm' : [('A*', 49), ('DFID', 56)],\n",
    "    'Simplex' : [('Result', 65), ('Prediction', 80)] ,\n",
    "    'Goal-based' :[('Result', 70)] ,\n",
    "    'Utility' : [('Result',71)] ,\n",
    "    'Sub-roles' : [('Development', 88)] ,\n",
    "    'History' : [('Development', 90)] ,\n",
    "    'A*' : [('A*', 93)] ,\n",
    "    'DFID' : [('Prediction', 99)] ,\n",
    "    'Result' : ['Prediction', 105],\n",
    "    'Development' : [],\n",
    "    'Autocars' : [('Result', 112)] ,\n",
    "    'Prediction' : []\n",
    "}\n",
    "\n",
    "graph1 = Graph(adjacency_list)\n",
    "graph1.a_star_algorithm('Start', 'Result')"
   ]
  },
  {
   "cell_type": "code",
   "execution_count": null,
   "metadata": {},
   "outputs": [],
   "source": []
  },
  {
   "cell_type": "code",
   "execution_count": null,
   "metadata": {},
   "outputs": [],
   "source": []
  }
 ],
 "metadata": {
  "colab": {
   "collapsed_sections": [],
   "name": "A* final",
   "provenance": []
  },
  "kernelspec": {
   "display_name": "Python 3 (ipykernel)",
   "language": "python",
   "name": "python3"
  },
  "language_info": {
   "codemirror_mode": {
    "name": "ipython",
    "version": 3
   },
   "file_extension": ".py",
   "mimetype": "text/x-python",
   "name": "python",
   "nbconvert_exporter": "python",
   "pygments_lexer": "ipython3",
   "version": "3.9.9"
  }
 },
 "nbformat": 4,
 "nbformat_minor": 1
}
