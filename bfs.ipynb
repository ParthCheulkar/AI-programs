{
 "cells": [
  {
   "cell_type": "code",
   "execution_count": 15,
   "metadata": {
    "colab": {
     "base_uri": "https://localhost:8080/"
    },
    "id": "qgb8BKB04PcM",
    "outputId": "47f0f31c-ac42-4055-d47c-144ab843fc3d"
   },
   "outputs": [],
   "source": [
    "graph = {\n",
    "   'Start' : ['Intro', 'Model', 'Agents'],\n",
    "    'Intro' : ['Role', 'Types', 'Application'],\n",
    "    'Model' : ['Model Type', 'Algorithm'] ,\n",
    "    'Agents' : ['Simplex','Goal-based','Utility'] ,\n",
    "    'Role' : ['History','Sub-roles'] ,\n",
    "    'Types' : ['History'] ,\n",
    "    'Application' : ['Autocars'] ,\n",
    "    'Model Type' : [] ,\n",
    "    'Algorithm' : ['A*','DFID'],\n",
    "    'Simplex' : ['Result','Prediction'] ,\n",
    "    'Goal-based' :['Result'] ,\n",
    "    'Utility' : ['Result'] ,\n",
    "    'Sub-roles' : ['Development'] ,\n",
    "    'History' : ['Development'] ,\n",
    "    'A*' : ['A*'] ,\n",
    "    'DFID' : ['Prediction'] ,\n",
    "    'Result' : ['Prediction'],\n",
    "    'Development' : [],\n",
    "    'Autocars' : ['Result'] ,\n",
    "    'Prediction' : []\n",
    "}\n"
   ]
  },
  {
   "cell_type": "code",
   "execution_count": 16,
   "metadata": {
    "colab": {
     "base_uri": "https://localhost:8080/"
    },
    "id": "qRv-um8J45tK",
    "outputId": "5a90fb35-8ed5-449e-fdbb-64ace534ba73"
   },
   "outputs": [
    {
     "name": "stdout",
     "output_type": "stream",
     "text": [
      "Following is the Breadth-First Search \n",
      "\n",
      "Queue =  ['Start']\n",
      "Start\n",
      "Queue =  ['Intro', 'Model', 'Agents']\n",
      "Intro\n",
      "Queue =  ['Model', 'Agents', 'Role', 'Types', 'Application']\n",
      "Model\n",
      "Queue =  ['Agents', 'Role', 'Types', 'Application', 'Model Type', 'Algorithm']\n",
      "Agents\n",
      "Queue =  ['Role', 'Types', 'Application', 'Model Type', 'Algorithm', 'Simplex', 'Goal-based', 'Utility']\n",
      "Role\n",
      "Queue =  ['Types', 'Application', 'Model Type', 'Algorithm', 'Simplex', 'Goal-based', 'Utility', 'History', 'Sub-roles']\n",
      "Types\n",
      "Queue =  ['Application', 'Model Type', 'Algorithm', 'Simplex', 'Goal-based', 'Utility', 'History', 'Sub-roles']\n",
      "Application\n",
      "Queue =  ['Model Type', 'Algorithm', 'Simplex', 'Goal-based', 'Utility', 'History', 'Sub-roles', 'Autocars']\n",
      "Model Type\n",
      "Queue =  ['Algorithm', 'Simplex', 'Goal-based', 'Utility', 'History', 'Sub-roles', 'Autocars']\n",
      "Algorithm\n",
      "Queue =  ['Simplex', 'Goal-based', 'Utility', 'History', 'Sub-roles', 'Autocars', 'A*', 'DFID']\n",
      "Simplex\n",
      "Queue =  ['Goal-based', 'Utility', 'History', 'Sub-roles', 'Autocars', 'A*', 'DFID', 'Result', 'Prediction']\n",
      "Goal-based\n",
      "Queue =  ['Utility', 'History', 'Sub-roles', 'Autocars', 'A*', 'DFID', 'Result', 'Prediction']\n",
      "Utility\n",
      "Queue =  ['History', 'Sub-roles', 'Autocars', 'A*', 'DFID', 'Result', 'Prediction']\n",
      "History\n",
      "Queue =  ['Sub-roles', 'Autocars', 'A*', 'DFID', 'Result', 'Prediction', 'Development']\n",
      "Sub-roles\n",
      "Queue =  ['Autocars', 'A*', 'DFID', 'Result', 'Prediction', 'Development']\n",
      "Autocars\n",
      "Queue =  ['A*', 'DFID', 'Result', 'Prediction', 'Development']\n",
      "A*\n",
      "Queue =  ['DFID', 'Result', 'Prediction', 'Development']\n",
      "DFID\n",
      "Queue =  ['Result', 'Prediction', 'Development']\n",
      "Result\n",
      "Queue =  ['Prediction', 'Development']\n",
      "Prediction\n",
      "Queue =  ['Development']\n",
      "Development\n",
      "End\n"
     ]
    }
   ],
   "source": [
    "visited = set() # Set for visited nodes.\n",
    "queue = []     #Initialize a queue\n",
    "\n",
    "def bfs(visited, graph, node): #function for BFS\n",
    "  visited.add(node)\n",
    "  queue.append(node)\n",
    "\n",
    "  while queue:          # Creating loop to visit each node\n",
    "\n",
    "    print(\"Queue = \" ,queue)\n",
    "    \n",
    "    m = queue.pop(0)\n",
    "\n",
    "#   print(\"Visited = \", visited)\n",
    "    \n",
    "    print(m)\n",
    "#     print(\"\\n\")\n",
    "#     print (m, end = \" -> \") \n",
    "\n",
    "    for neighbour in graph[m]:\n",
    "      if neighbour not in visited:\n",
    "        visited.add(neighbour)\n",
    "        queue.append(neighbour)\n",
    "\n",
    "# Driver Code\n",
    "print(\"Following is the Breadth-First Search \\n\")\n",
    "bfs(visited, graph, 'Start') \n",
    "print(\"End\") # function calling\n"
   ]
  },
  {
   "cell_type": "code",
   "execution_count": 14,
   "metadata": {},
   "outputs": [
    {
     "name": "stdout",
     "output_type": "stream",
     "text": [
      "Start\n",
      "Intro\n",
      "Model\n",
      "Agents\n",
      "Role\n",
      "Types\n",
      "Application\n",
      "Model Type\n",
      "Algorithm\n",
      "Simplex\n",
      "Goal-based\n",
      "Utility\n",
      "History\n",
      "Sub-roles\n",
      "Autocars\n",
      "A*\n",
      "DFID\n",
      "Result\n",
      "Prediction\n",
      "Development\n"
     ]
    }
   ],
   "source": [
    "# PRACTICE\n",
    "\n",
    "visit = set()\n",
    "line = []\n",
    "\n",
    "def bfs2(visit, graph, node):\n",
    "    line.append(node)\n",
    "    visit.add(node)\n",
    "    \n",
    "    while line :\n",
    "        m = line.pop(0)\n",
    "        print(m)\n",
    "        for child in graph[m]:\n",
    "            if child not in visit:\n",
    "                line.append(child)\n",
    "                visit.add(child)\n",
    "\n",
    "bfs2(visit, graph, 'Start')\n",
    "        \n",
    "    "
   ]
  },
  {
   "cell_type": "code",
   "execution_count": null,
   "metadata": {},
   "outputs": [],
   "source": []
  }
 ],
 "metadata": {
  "colab": {
   "collapsed_sections": [],
   "name": "bfs_dfs",
   "provenance": []
  },
  "kernelspec": {
   "display_name": "Python 3 (ipykernel)",
   "language": "python",
   "name": "python3"
  },
  "language_info": {
   "codemirror_mode": {
    "name": "ipython",
    "version": 3
   },
   "file_extension": ".py",
   "mimetype": "text/x-python",
   "name": "python",
   "nbconvert_exporter": "python",
   "pygments_lexer": "ipython3",
   "version": "3.9.9"
  }
 },
 "nbformat": 4,
 "nbformat_minor": 1
}
