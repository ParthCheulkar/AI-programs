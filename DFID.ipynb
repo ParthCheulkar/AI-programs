{
 "cells": [
  {
   "cell_type": "markdown",
   "id": "a16d14c7",
   "metadata": {
    "id": "B6VvBK1z_I_Z"
   },
   "source": []
  },
  {
   "cell_type": "code",
   "execution_count": 5,
   "id": "5537e87a",
   "metadata": {
    "id": "5537e87a"
   },
   "outputs": [],
   "source": [
    "class Node(object):\n",
    "    \"\"\"This class represents a node in a graph.\"\"\"\n",
    "    \n",
    "    def __init__(self, label: str=None):\n",
    "        \"\"\"\n",
    "        Initialize a new node.\n",
    "        \n",
    "        Args:\n",
    "            label: the string identifier for the node\n",
    "        \"\"\"\n",
    "        self.label = label\n",
    "        self.children = []\n",
    "        \n",
    "    def __lt__(self,other):\n",
    "        \"\"\"\n",
    "        Perform the less than operation (self < other).\n",
    "        \n",
    "        Args:\n",
    "            other: the other Node to compare to\n",
    "        \"\"\"\n",
    "        return (self.label < other.label)\n",
    "    \n",
    "    def __gt__(self,other):\n",
    "        \"\"\"\n",
    "        Perform the greater than operation (self > other).\n",
    "        \n",
    "        Args:\n",
    "            other: the other Node to compare to\n",
    "        \"\"\"\n",
    "        return (self.label > other.label)\n",
    "    \n",
    "    def __repr__(self):\n",
    "        \"\"\"Return a string form of this node.\"\"\"\n",
    "        return '{} -> {}'.format(self.label, self.children)\n",
    "    \n",
    "    def add_child(self, node, cost=1):\n",
    "        \"\"\"\n",
    "        Add a child node to this node.\n",
    "        \n",
    "        Args:\n",
    "            node: the node to add to the children\n",
    "            cost: the cost of the edge (default 1)\n",
    "        \"\"\"\n",
    "        if type(node) is list:\n",
    "            [self.add_child(sub_node) for sub_node in node]\n",
    "            return\n",
    "        edge = Edge(self, node, cost)\n",
    "        self.children.append(edge)\n",
    "    \n",
    "    \n",
    "class Edge(object):\n",
    "    \"\"\"This class represents an edge in a graph.\"\"\"\n",
    "    \n",
    "    def __init__(self, source: Node, destination: Node, cost: int=5, bidirectional: bool=False):\n",
    "        \"\"\"\n",
    "        Initialize a new edge.\n",
    "        \n",
    "        Args:\n",
    "            source: the source of the edge\n",
    "            destination: the destination of the edge\n",
    "            cost: the cost of the edge (default 1)\n",
    "            bidirectional: whether source is accessible (default False)\n",
    "        \"\"\"\n",
    "        self.source = source\n",
    "        self.destination = destination\n",
    "        self.cost = cost\n",
    "        self.bidirectional = bidirectional\n",
    "    \n",
    "    def __repr__(self):\n",
    "        \"\"\"Return a string form of this edge.\"\"\"\n",
    "        return '{}: {}'.format(self.cost, self.destination.label)"
   ]
  },
  {
   "cell_type": "code",
   "execution_count": 6,
   "id": "d8f5e4be",
   "metadata": {
    "id": "d8f5e4be"
   },
   "outputs": [],
   "source": [
    "S = Node('Start')\n",
    "n1 = Node('Introduction')\n",
    "n2= Node('Model')\n",
    "n3= Node('Agents')\n",
    "n4= Node('Role')\n",
    "n5= Node('Types')\n",
    "n6= Node('Application')\n",
    "n7= Node('Model Type')\n",
    "n8= Node('Algorithm')\n",
    "n9= Node('Simplex')\n",
    "n10= Node('Goal-based')\n",
    "n11= Node('Utility')\n",
    "n12= Node('Sub-Roles')\n",
    "n13= Node('History')\n",
    "n14= Node('A*')\n",
    "n15= Node('DFID')\n",
    "n16= Node('Prediction')\n",
    "n17= Node('Development')\n",
    "n18= Node('Autocars')\n",
    "D= Node('Result')\n"
   ]
  },
  {
   "cell_type": "code",
   "execution_count": 7,
   "id": "3d179385",
   "metadata": {
    "id": "3d179385"
   },
   "outputs": [],
   "source": [
    "S.add_child([n1,n2,n3])\n",
    "n1.add_child([n4,n5,n6])\n",
    "n2.add_child([n7,n8])\n",
    "n3.add_child([n9,n10,n11])\n",
    "n4.add_child([n12,n13])\n",
    "n5.add_child([n13])\n",
    "n6.add_child([n18])\n",
    "n8.add_child([n14,n15])\n",
    "n9.add_child([n16, D])\n",
    "n10.add_child(D)\n",
    "n11.add_child(D)\n",
    "n12.add_child(n17)\n",
    "n13.add_child(n17)\n",
    "n14.add_child(n18)\n",
    "n15.add_child(n16)\n",
    "n16.add_child(D)\n",
    "n18.add_child(D)\n"
   ]
  },
  {
   "cell_type": "code",
   "execution_count": 13,
   "id": "2c7d17fd",
   "metadata": {
    "colab": {
     "base_uri": "https://localhost:8080/"
    },
    "id": "2c7d17fd",
    "outputId": "38a76e23-ed2a-4370-cf75-83df5d4f1489",
    "scrolled": false
   },
   "outputs": [
    {
     "name": "stdout",
     "output_type": "stream",
     "text": [
      "Start -> [1: Introduction, 1: Model, 1: Agents]\n",
      "Introduction -> [1: Role, 1: Types, 1: Application]\n",
      "Model -> [1: Model Type, 1: Algorithm]\n",
      "Agents -> [1: Simplex, 1: Goal-based, 1: Utility]\n",
      "Role -> [1: Sub-Roles, 1: History]\n",
      "Types -> [1: History]\n",
      "Application -> [1: Autocars]\n",
      "Model Type -> []\n",
      "Algorithm -> [1: A*, 1: DFID]\n",
      "Simplex -> [1: Prediction, 1: Result]\n",
      "Goal-based -> [1: Result]\n",
      "Utility -> [1: Result]\n",
      "Sub-Roles -> [1: Development]\n",
      "History -> [1: Development]\n",
      "A* -> [1: Autocars]\n",
      "DFID -> [1: Prediction]\n",
      "Prediction -> [1: Result]\n",
      "Development -> []\n",
      "Autocars -> [1: Result]\n",
      "Result -> []\n"
     ]
    }
   ],
   "source": [
    "_ = [print(node) for node in [S,n1,n2,n3,n4,n5,n6,n7,n8,n9,n10,n11,n12,n13,n14,n15,n16,n17,n18,D]]"
   ]
  },
  {
   "cell_type": "code",
   "execution_count": 27,
   "id": "996f97a9",
   "metadata": {
    "id": "996f97a9"
   },
   "outputs": [
    {
     "name": "stdout",
     "output_type": "stream",
     "text": [
      "DFID Traversal\n"
     ]
    },
    {
     "ename": "ValueError",
     "evalue": "goal not in graph with depth 4",
     "output_type": "error",
     "traceback": [
      "\u001b[0;31m---------------------------------------------------------------------------\u001b[0m",
      "\u001b[0;31mValueError\u001b[0m                                Traceback (most recent call last)",
      "\u001b[0;32m/var/folders/_6/n430b4g53jn100g5xz31hvcw0000gn/T/ipykernel_1068/151384603.py\u001b[0m in \u001b[0;36m<module>\u001b[0;34m\u001b[0m\n\u001b[1;32m     44\u001b[0m \u001b[0;34m\u001b[0m\u001b[0m\n\u001b[1;32m     45\u001b[0m \u001b[0mprint\u001b[0m\u001b[0;34m(\u001b[0m\u001b[0;34m\"DFID Traversal\"\u001b[0m\u001b[0;34m)\u001b[0m\u001b[0;34m\u001b[0m\u001b[0;34m\u001b[0m\u001b[0m\n\u001b[0;32m---> 46\u001b[0;31m \u001b[0middfs\u001b[0m\u001b[0;34m(\u001b[0m\u001b[0mS\u001b[0m\u001b[0;34m,\u001b[0m \u001b[0;34m'D'\u001b[0m\u001b[0;34m)\u001b[0m\u001b[0;34m\u001b[0m\u001b[0;34m\u001b[0m\u001b[0m\n\u001b[0m",
      "\u001b[0;32m/var/folders/_6/n430b4g53jn100g5xz31hvcw0000gn/T/ipykernel_1068/151384603.py\u001b[0m in \u001b[0;36middfs\u001b[0;34m(root, goal, maximum_depth)\u001b[0m\n\u001b[1;32m     18\u001b[0m         \u001b[0;32mreturn\u001b[0m \u001b[0mresult\u001b[0m\u001b[0;34m\u001b[0m\u001b[0;34m\u001b[0m\u001b[0m\n\u001b[1;32m     19\u001b[0m \u001b[0;34m\u001b[0m\u001b[0m\n\u001b[0;32m---> 20\u001b[0;31m     \u001b[0;32mraise\u001b[0m \u001b[0mValueError\u001b[0m\u001b[0;34m(\u001b[0m\u001b[0;34m'goal not in graph with depth {}'\u001b[0m\u001b[0;34m.\u001b[0m\u001b[0mformat\u001b[0m\u001b[0;34m(\u001b[0m\u001b[0mmaximum_depth\u001b[0m\u001b[0;34m)\u001b[0m\u001b[0;34m)\u001b[0m\u001b[0;34m\u001b[0m\u001b[0;34m\u001b[0m\u001b[0m\n\u001b[0m\u001b[1;32m     21\u001b[0m \u001b[0;34m\u001b[0m\u001b[0m\n\u001b[1;32m     22\u001b[0m \u001b[0;32mdef\u001b[0m \u001b[0m_dls\u001b[0m\u001b[0;34m(\u001b[0m\u001b[0mpath\u001b[0m\u001b[0;34m:\u001b[0m \u001b[0mlist\u001b[0m\u001b[0;34m,\u001b[0m \u001b[0mgoal\u001b[0m\u001b[0;34m:\u001b[0m \u001b[0mstr\u001b[0m\u001b[0;34m,\u001b[0m \u001b[0mdepth\u001b[0m\u001b[0;34m:\u001b[0m \u001b[0mint\u001b[0m\u001b[0;34m)\u001b[0m\u001b[0;34m:\u001b[0m\u001b[0;34m\u001b[0m\u001b[0;34m\u001b[0m\u001b[0m\n",
      "\u001b[0;31mValueError\u001b[0m: goal not in graph with depth 4"
     ]
    }
   ],
   "source": [
    "def iddfs(root: Node, goal: str, maximum_depth: int = 4):\n",
    "    \"\"\"\n",
    "    Return the IDDFS path from the root node to the node with the goal label.\n",
    "    \n",
    "    Args:\n",
    "        root: the node to start at\n",
    "        goal: the label of the goal node\n",
    "        maximum_depth: the maximum depth to search\n",
    "        \n",
    "    Returns: a list with the nodes from root to goal\n",
    "    \n",
    "    Raises: value error if the goal isn't in the graph\n",
    "    \"\"\"\n",
    "    for depth in range(0, maximum_depth):\n",
    "        result = _dls([root], goal, depth)\n",
    "        if result is None:\n",
    "            continue\n",
    "        return result\n",
    "    \n",
    "    raise ValueError('goal not in graph with depth {}'.format(maximum_depth))\n",
    "\n",
    "def _dls(path: list, goal: str, depth: int):\n",
    "    \"\"\"\n",
    "    Return the depth limited search path from a subpath to the goal.\n",
    "    \n",
    "    Args:\n",
    "        path: the current path of Nodes being taken\n",
    "        goal: the label of the goal node\n",
    "        depth: the depth in the graph to search\n",
    "        \n",
    "    Returns: the path if it exists, none otherwise\n",
    "    \"\"\"\n",
    "    current = path[-1]\n",
    "    if current.label == goal:\n",
    "        return path\n",
    "    if depth <= 0:\n",
    "        return None\n",
    "    for edge in current.children:\n",
    "        new_path = list(path)\n",
    "        new_path.append(edge.destination)\n",
    "        result = _dls(new_path, goal, depth - 1)\n",
    "        if result is not None:\n",
    "            return result\n",
    "\n",
    "print(\"DFID Traversal\")\n",
    "iddfs(S, 'D')"
   ]
  },
  {
   "cell_type": "code",
   "execution_count": null,
   "id": "aeb94af7",
   "metadata": {},
   "outputs": [],
   "source": []
  }
 ],
 "metadata": {
  "colab": {
   "collapsed_sections": [],
   "name": "DFID.ipynb",
   "provenance": []
  },
  "kernelspec": {
   "display_name": "Python 3 (ipykernel)",
   "language": "python",
   "name": "python3"
  },
  "language_info": {
   "codemirror_mode": {
    "name": "ipython",
    "version": 3
   },
   "file_extension": ".py",
   "mimetype": "text/x-python",
   "name": "python",
   "nbconvert_exporter": "python",
   "pygments_lexer": "ipython3",
   "version": "3.9.9"
  }
 },
 "nbformat": 4,
 "nbformat_minor": 5
}
