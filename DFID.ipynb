{
 "cells": [
  {
   "cell_type": "code",
   "execution_count": 2,
   "id": "996f97a9",
   "metadata": {
    "id": "996f97a9"
   },
   "outputs": [
    {
     "name": "stdout",
     "output_type": "stream",
     "text": [
      "Checking for destination A\n",
      "Checking for destination A\n",
      "Checking for destination B\n",
      "Checking for destination C\n",
      "Checking for destination A\n",
      "Checking for destination B\n",
      "Checking for destination D\n",
      "Checking for destination E\n",
      "A path exists\n",
      "\n",
      " ['A', 'B', 'E']\n"
     ]
    }
   ],
   "source": [
    "graph = {\n",
    "    'A': ['B', 'C'],\n",
    "    'B': ['D','E'],\n",
    "    \"C\": ['G'],\n",
    "    'D': [],\n",
    "    'E': ['F'],\n",
    "    'G': [],\n",
    "    'F':[]\n",
    "}\n",
    "\n",
    "path = list()\n",
    "\n",
    "def DFS(currentNode,destination,graph,maxDepth,curList):\n",
    "    print(\"Checking for destination\",currentNode)\n",
    "    curList.append(currentNode)\n",
    "    if currentNode==destination:\n",
    "        return True\n",
    "    if maxDepth<=0:\n",
    "        path.append(curList)\n",
    "        return False\n",
    "    for node in graph[currentNode]:\n",
    "        if DFS(node,destination,graph,maxDepth-1,curList):\n",
    "            return True\n",
    "        else:\n",
    "            curList.pop()\n",
    "    return False\n",
    "\n",
    "def iterativeDDFS(currentNode,destination,graph,maxDepth):\n",
    "    for i in range(maxDepth):\n",
    "        curList = list()\n",
    "        if DFS(currentNode,destination,graph,i,curList):\n",
    "            return True\n",
    "    return False\n",
    "\n",
    "if not iterativeDDFS('A','E',graph,4):\n",
    "    print(\"Path is not available\")\n",
    "else:\n",
    "    print(\"A path exists\")\n",
    "    print(\"\\n\",path.pop())"
   ]
  },
  {
   "cell_type": "code",
   "execution_count": 3,
   "id": "aeb94af7",
   "metadata": {},
   "outputs": [
    {
     "name": "stdout",
     "output_type": "stream",
     "text": [
      "Enter max depth : 4\n",
      "Checking for A\n",
      "Checking for A\n",
      "Checking for B\n",
      "Checking for C\n",
      "Checking for A\n",
      "Checking for B\n",
      "Checking for D\n",
      "Checking for E\n",
      "Path Found yayyy\n",
      "Path found!!\n",
      " Path : ['A', 'B', 'E']\n"
     ]
    }
   ],
   "source": [
    "# PRACTICE\n",
    "\n",
    "\n",
    "road = []\n",
    "\n",
    "def dfs2(current, goal, graph, depth, curr):\n",
    "    curr.append(current)\n",
    "    print(f\"Checking for {current}\")\n",
    "    if current == goal :\n",
    "        print(\"Path Found yayyy\")\n",
    "        road.append(curr)\n",
    "        return True\n",
    "    if depth <= 0:\n",
    "        road.append(curr)\n",
    "        return False\n",
    "    \n",
    "#     road.append(current)\n",
    "    for child in graph[current]:\n",
    "        if dfs2(child, goal, graph, depth-1, curr):\n",
    "#             print(f\"checking for {child}\")\n",
    "            return True\n",
    "        else:\n",
    "            curr.pop()\n",
    "    return False\n",
    "\n",
    "\n",
    "def iddfs(start, goal, graph, depth):\n",
    "#     road.add(start)\n",
    "    for i in range(depth):\n",
    "        curr = []\n",
    "        if dfs2(start, goal, graph, i, curr):\n",
    "            return True\n",
    "    return False\n",
    "\n",
    "d = int(input(\"Enter max depth : \"))\n",
    "\n",
    "if iddfs('A', 'E', graph, d):\n",
    "    print(f\"Path found!!\\n Path : {road.pop()}\")\n",
    "else:\n",
    "    print(f\"Path does not exist for the given depth {d}\")"
   ]
  }
 ],
 "metadata": {
  "colab": {
   "collapsed_sections": [],
   "name": "DFID.ipynb",
   "provenance": []
  },
  "kernelspec": {
   "display_name": "Python 3 (ipykernel)",
   "language": "python",
   "name": "python3"
  },
  "language_info": {
   "codemirror_mode": {
    "name": "ipython",
    "version": 3
   },
   "file_extension": ".py",
   "mimetype": "text/x-python",
   "name": "python",
   "nbconvert_exporter": "python",
   "pygments_lexer": "ipython3",
   "version": "3.9.9"
  }
 },
 "nbformat": 4,
 "nbformat_minor": 5
}
